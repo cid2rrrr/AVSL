{
  "nbformat": 4,
  "nbformat_minor": 0,
  "metadata": {
    "colab": {
      "provenance": [],
      "authorship_tag": "ABX9TyNVg8ScjbZTWXxxobkGVWsM",
      "include_colab_link": true
    },
    "kernelspec": {
      "name": "python3",
      "display_name": "Python 3"
    },
    "language_info": {
      "name": "python"
    }
  },
  "cells": [
    {
      "cell_type": "markdown",
      "metadata": {
        "id": "view-in-github",
        "colab_type": "text"
      },
      "source": [
        "<a href=\"https://colab.research.google.com/github/cid2rrrr/AVSL/blob/main/DDD.ipynb\" target=\"_parent\"><img src=\"https://colab.research.google.com/assets/colab-badge.svg\" alt=\"Open In Colab\"/></a>"
      ]
    },
    {
      "cell_type": "code",
      "source": [
        "#!pip install youtube_dl"
      ],
      "metadata": {
        "colab": {
          "base_uri": "https://localhost:8080/"
        },
        "id": "xH4g3Jdb7Bl3",
        "outputId": "ea6c0592-096d-49e1-a85c-987120cdd3a6"
      },
      "execution_count": null,
      "outputs": [
        {
          "output_type": "stream",
          "name": "stdout",
          "text": [
            "Collecting youtube_dl\n",
            "  Downloading youtube_dl-2021.12.17-py2.py3-none-any.whl (1.9 MB)\n",
            "\u001b[2K     \u001b[90m━━━━━━━━━━━━━━━━━━━━━━━━━━━━━━━━━━━━━━━━\u001b[0m \u001b[32m1.9/1.9 MB\u001b[0m \u001b[31m8.6 MB/s\u001b[0m eta \u001b[36m0:00:00\u001b[0m\n",
            "\u001b[?25hInstalling collected packages: youtube_dl\n",
            "Successfully installed youtube_dl-2021.12.17\n"
          ]
        }
      ]
    },
    {
      "cell_type": "code",
      "source": [
        "# error fix change youtube.py to 'uploader_id': self._search_regex(r'/(?:channel/|user/|@)([^/?&#]+)', owner_profile_url, 'uploader id', default=None),"
      ],
      "metadata": {
        "id": "d6JV-QSvTJD9"
      },
      "execution_count": null,
      "outputs": []
    },
    {
      "cell_type": "code",
      "source": [
        "#youtube_ids = ['lJiyXBRglgs','q7tqLBK5HTQ','-8zo9XKvnEs','ktnmaWrxCww']"
      ],
      "metadata": {
        "id": "18U46GM6x27m"
      },
      "execution_count": null,
      "outputs": []
    },
    {
      "cell_type": "code",
      "source": [
        "# Specify the file path\n",
        "#file_path = \"dataset_file.txt\"\n",
        "\n",
        "# Write the list to a text file\n",
        "#with open(file_path, 'w') as file:\n",
        "#    for youtube_id in youtube_ids:\n",
        "#        file.write(youtube_id + '\\n')"
      ],
      "metadata": {
        "id": "DiyU50Z-FIKM"
      },
      "execution_count": null,
      "outputs": []
    },
    {
      "cell_type": "code",
      "source": [
        "import cv2\n",
        "import youtube_dl\n",
        "import torch\n",
        "import os\n",
        "import librosa\n",
        "import numpy as np\n",
        "from torch.utils.data import Dataset, DataLoader\n",
        "from torchvision import transforms\n",
        "\n",
        "def download_video(video_url, output_path):\n",
        "    ydl_opts = {\n",
        "        'format': 'bestvideo[height<=480]+bestaudio/best[height<=480]',\n",
        "        'outtmpl': output_path,\n",
        "    }\n",
        "\n",
        "    with youtube_dl.YoutubeDL(ydl_opts) as ydl:\n",
        "      ydl.download([video_url])\n",
        "\n",
        "def extract_central_frame(video_path, output_path):\n",
        "    cap = cv2.VideoCapture(video_path)\n",
        "\n",
        "    total_frames = int(cap.get(cv2.CAP_PROP_FRAME_COUNT))\n",
        "    central_frame_index = total_frames // 2\n",
        "\n",
        "    cap.set(cv2.CAP_PROP_POS_FRAMES, central_frame_index)\n",
        "    ret, frame = cap.read()\n",
        "\n",
        "    if ret:\n",
        "        cv2.imwrite(output_path, frame)\n",
        "        print(f\"Central frame extracted and saved to {output_path}\")\n",
        "    else:\n",
        "        print(\"Failed to extract central frame\")\n",
        "\n",
        "    cap.release()\n",
        "\n",
        "def extract_audio(video_url, output_path):\n",
        "    ydl_opts = {\n",
        "        'format': 'bestaudio/best',\n",
        "        'outtmpl': output_path.replace('.wav', '.%(ext)s'),\n",
        "        'postprocessors': [{\n",
        "            'key': 'FFmpegExtractAudio',\n",
        "            'preferredcodec': 'wav',\n",
        "            'preferredquality': '192',\n",
        "        }],\n",
        "    }\n",
        "\n",
        "    with youtube_dl.YoutubeDL(ydl_opts) as ydl:\n",
        "        ydl.download([video_url])\n",
        "\n",
        "class YouTubeDataset(Dataset):\n",
        "    def __init__(self, video_ids_file, transform=None):\n",
        "        self.video_ids = self.load_video_ids(video_ids_file)\n",
        "        self.transform = transform\n",
        "\n",
        "    def load_video_ids(self, video_ids_file):\n",
        "        with open(video_ids_file, 'r') as file:\n",
        "            video_ids = [line.strip() for line in file.readlines()]\n",
        "        return video_ids\n",
        "\n",
        "    def __len__(self):\n",
        "        return len(self.video_ids)\n",
        "\n",
        "    def __getitem__(self, idx):\n",
        "        video_id = self.video_ids[idx]\n",
        "        video_url = f'https://youtu.be/{video_id}'\n",
        "        video_output_path = f'temp_video_{video_id}.mp4'\n",
        "        frame_output_path = f'output_frame_{video_id}.jpg'\n",
        "        audio_output_path = f'output_audio_{video_id}.wav'\n",
        "\n",
        "        # Extract audio\n",
        "        extract_audio(video_url, audio_output_path)\n",
        "        # Read the audio\n",
        "        audio, _ = librosa.load(audio_output_path, sr=None)\n",
        "\n",
        "        # Download video and extract central frame\n",
        "        download_video(video_url, video_output_path)\n",
        "        extract_central_frame(video_output_path, frame_output_path)\n",
        "\n",
        "        # Read the frame\n",
        "        frame = cv2.imread(frame_output_path)\n",
        "        frame = cv2.cvtColor(frame, cv2.COLOR_BGR2RGB)\n",
        "\n",
        "        # Apply transforms if specified\n",
        "        if self.transform:\n",
        "            frame = self.transform(frame)\n",
        "\n",
        "        # Clean up temporary files\n",
        "        os.remove(video_output_path)\n",
        "        os.remove(frame_output_path)\n",
        "        os.remove(audio_output_path)\n",
        "\n",
        "        return {'frame': frame, 'audio': audio}"
      ],
      "metadata": {
        "id": "wqr-5-nGANpr"
      },
      "execution_count": null,
      "outputs": []
    },
    {
      "cell_type": "code",
      "source": [
        "#video_id = 'lJiyXBRglgs'\n",
        "#video_url = f'https://youtu.be/{video_id}'\n",
        "#video_output_path = f'temp_video_{video_id}.mp4'\n",
        "#frame_output_path = f'output_frame_{video_id}.jpg'\n",
        "#audio_output_path = f'output_audio_{video_id}.wav'\n",
        "#download_video(video_url, video_output_path)\n",
        "#extract_central_frame(video_output_path, frame_output_path)\n",
        "#extract_audio(video_url, audio_output_path)"
      ],
      "metadata": {
        "id": "zGjnLPjjMPQK"
      },
      "execution_count": null,
      "outputs": []
    },
    {
      "cell_type": "code",
      "source": [
        "# e.g. video_ids_file = dataset text file\n",
        "#video_ids_file = \"dataset_file.txt\"\n",
        "\n",
        "transform = transforms.Compose([transforms.ToTensor()])  # Add more transforms if needed\n",
        "dataset = YouTubeDataset(video_ids_file, transform=transform)\n",
        "#dataset = YouTubeDataset(video_ids_file, transform=transform)\n",
        "dataloader = DataLoader(dataset, batch_size=4, shuffle=True) # Adjust batch size\n",
        "\n",
        "# Iterate over the dataloader\n",
        "for batch in dataloader:\n",
        "    frames, audios = batch['frame'], batch['audio']\n",
        "    # Process the batch and pass it to your model\n",
        "    #pass"
      ],
      "metadata": {
        "id": "SgoJoGvQBfyb"
      },
      "execution_count": null,
      "outputs": []
    }
  ]
}