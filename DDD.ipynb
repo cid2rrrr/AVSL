{
  "cells": [
    {
      "cell_type": "code",
      "execution_count": null,
      "metadata": {
        "colab": {
          "base_uri": "https://localhost:8080/"
        },
        "id": "xH4g3Jdb7Bl3",
        "outputId": "ea6c0592-096d-49e1-a85c-987120cdd3a6"
      },
      "outputs": [],
      "source": [
        "!pip install youtube_dl"
      ]
    },
    {
      "cell_type": "code",
      "execution_count": null,
      "metadata": {},
      "outputs": [],
      "source": [
        "!python3 -m pip install -U yt-dlp"
      ]
    },
    {
      "cell_type": "code",
      "execution_count": null,
      "metadata": {},
      "outputs": [],
      "source": [
        "!pip install opencv-python"
      ]
    },
    {
      "cell_type": "code",
      "execution_count": null,
      "metadata": {},
      "outputs": [],
      "source": [
        "!pip install torch"
      ]
    },
    {
      "cell_type": "code",
      "execution_count": null,
      "metadata": {},
      "outputs": [],
      "source": [
        "!pip install librosa"
      ]
    },
    {
      "cell_type": "code",
      "execution_count": null,
      "metadata": {},
      "outputs": [],
      "source": [
        "!pip install numpy"
      ]
    },
    {
      "cell_type": "code",
      "execution_count": null,
      "metadata": {},
      "outputs": [],
      "source": [
        "!pip install torchvision"
      ]
    },
    {
      "cell_type": "code",
      "execution_count": null,
      "metadata": {},
      "outputs": [],
      "source": [
        "!pip install ffmpeg"
      ]
    },
    {
      "cell_type": "code",
      "execution_count": null,
      "metadata": {},
      "outputs": [],
      "source": [
        "# error fix change youtube.py to 'uploader_id': self._search_regex(r'/(?:channel/|user/|@)([^/?&#]+)', owner_profile_url, 'uploader id', default=None),"
      ]
    },
    {
      "cell_type": "code",
      "execution_count": null,
      "metadata": {
        "id": "18U46GM6x27m"
      },
      "outputs": [],
      "source": [
        "#youtube_ids = ['lJiyXBRglgs','q7tqLBK5HTQ','-8zo9XKvnEs','ktnmaWrxCww']"
      ]
    },
    {
      "cell_type": "code",
      "execution_count": null,
      "metadata": {
        "id": "wqr-5-nGANpr"
      },
      "outputs": [],
      "source": [
        "import cv2\n",
        "import youtube_dl\n",
        "import torch\n",
        "import os\n",
        "import librosa\n",
        "import numpy as np\n",
        "from torch.utils.data import Dataset, DataLoader\n",
        "from torchvision import transforms\n",
        "\n",
        "def download_video(video_url, output_path):\n",
        "    ydl_opts = {\n",
        "        'format': 'bestvideo[height<=480]+bestaudio/best[height<=480]',\n",
        "        'outtmpl': output_path,\n",
        "    }\n",
        "\n",
        "    with youtube_dl.YoutubeDL(ydl_opts) as ydl:\n",
        "      ydl.download([video_url])\n",
        "\n",
        "def extract_central_frame(video_path, output_path):\n",
        "    cap = cv2.VideoCapture(video_path)\n",
        "\n",
        "    total_frames = int(cap.get(cv2.CAP_PROP_FRAME_COUNT))\n",
        "    central_frame_index = total_frames // 2\n",
        "\n",
        "    cap.set(cv2.CAP_PROP_POS_FRAMES, central_frame_index)\n",
        "    ret, frame = cap.read()\n",
        "\n",
        "    if ret:\n",
        "        cv2.imwrite(output_path, frame)\n",
        "        print(f\"Central frame extracted and saved to {output_path}\")\n",
        "    else:\n",
        "        print(\"Failed to extract central frame\")\n",
        "\n",
        "    cap.release()\n",
        "\n",
        "def extract_audio(video_url, output_path):\n",
        "    ydl_opts = {\n",
        "        'format': 'bestaudio/best',\n",
        "        'outtmpl': output_path.replace('.wav', '.%(ext)s'),\n",
        "        'postprocessors': [{\n",
        "            'key': 'FFmpegExtractAudio',\n",
        "            'preferredcodec': 'wav',\n",
        "            'preferredquality': '192',\n",
        "        }],\n",
        "    }\n",
        "\n",
        "    with youtube_dl.YoutubeDL(ydl_opts) as ydl:\n",
        "        ydl.download([video_url])\n",
        "\n",
        "class YouTubeDataset(Dataset):\n",
        "    def __init__(self, video_ids_file, transform=None):\n",
        "        self.video_ids = self.load_video_ids(video_ids_file)\n",
        "        self.transform = transform\n",
        "\n",
        "    def load_video_ids(self, video_ids_file):\n",
        "        with open(video_ids_file, 'r') as file:\n",
        "            video_ids = [line.strip() for line in file.readlines()]\n",
        "        return video_ids\n",
        "\n",
        "    def __len__(self):\n",
        "        return len(self.video_ids)\n",
        "\n",
        "    def __getitem__(self, idx):\n",
        "        video_id = self.video_ids[idx]\n",
        "        video_url = f'https://youtu.be/{video_id}'\n",
        "        video_output_path = f'temp_video_{video_id}.mp4'\n",
        "        frame_output_path = f'output_frame_{video_id}.jpg'\n",
        "        audio_output_path = f'output_audio_{video_id}.wav'\n",
        "\n",
        "        # Extract audio\n",
        "        extract_audio(video_url, audio_output_path)\n",
        "        # Read the audio\n",
        "        audio, _ = librosa.load(audio_output_path, sr=None)\n",
        "\n",
        "        # Download video and extract central frame\n",
        "        download_video(video_url, video_output_path)\n",
        "        extract_central_frame(video_output_path, frame_output_path)\n",
        "\n",
        "        # Read the frame\n",
        "        frame = cv2.imread(frame_output_path)\n",
        "        frame = cv2.cvtColor(frame, cv2.COLOR_BGR2RGB)\n",
        "\n",
        "        # Apply transforms if specified\n",
        "        if self.transform:\n",
        "            frame = self.transform(frame)\n",
        "\n",
        "        # Clean up temporary files\n",
        "        os.remove(video_output_path)\n",
        "        os.remove(frame_output_path)\n",
        "        os.remove(audio_output_path)\n",
        "\n",
        "        return {'frame': frame, 'audio': audio}"
      ]
    },
    {
      "cell_type": "code",
      "execution_count": null,
      "metadata": {
        "colab": {
          "base_uri": "https://localhost:8080/",
          "height": 571
        },
        "id": "zGjnLPjjMPQK",
        "outputId": "d8d6949f-00d6-4b44-d2fe-04ccc1567839"
      },
      "outputs": [],
      "source": [
        "#video_id = 'lJiyXBRglgs'\n",
        "#video_url = f'https://youtu.be/{video_id}'\n",
        "#video_output_path = f'temp_video_{video_id}.mp4'\n",
        "#frame_output_path = f'output_frame_{video_id}.jpg'\n",
        "#audio_output_path = f'output_audio_{video_id}.wav'\n",
        "#download_video(video_url, video_output_path)\n",
        "#extract_central_frame(video_output_path, frame_output_path)\n",
        "#extract_audio(video_url, audio_output_path)"
      ]
    },
    {
      "cell_type": "code",
      "execution_count": null,
      "metadata": {
        "colab": {
          "base_uri": "https://localhost:8080/",
          "height": 571
        },
        "id": "SgoJoGvQBfyb",
        "outputId": "22366cc2-f3b8-46ca-e968-78e20e9419db"
      },
      "outputs": [],
      "source": [
        "# e.g. video_ids_file = dataset text file\n",
        "video_ids_file = \"dataset_file.txt\"\n",
        "\n",
        "transform = transforms.Compose([transforms.ToTensor()])  # Add more transforms if needed\n",
        "dataset = YouTubeDataset(video_ids_file, transform=transform)\n",
        "#dataset = YouTubeDataset(video_ids_file, transform=transform)\n",
        "dataloader = DataLoader(dataset, batch_size=4, shuffle=True) # Adjust batch size\n",
        "\n",
        "# Iterate over the dataloader\n",
        "for batch in dataloader:\n",
        "    frames, audios = batch['frame'], batch['audio']\n",
        "    # Process the batch and pass it to your model\n",
        "    #pass"
      ]
    }
  ],
  "metadata": {
    "colab": {
      "provenance": []
    },
    "kernelspec": {
      "display_name": "Python 3",
      "name": "python3"
    },
    "language_info": {
      "codemirror_mode": {
        "name": "ipython",
        "version": 3
      },
      "file_extension": ".py",
      "mimetype": "text/x-python",
      "name": "python",
      "nbconvert_exporter": "python",
      "pygments_lexer": "ipython3",
      "version": "3.10.0"
    }
  },
  "nbformat": 4,
  "nbformat_minor": 0
}
