{
 "cells": [
  {
   "cell_type": "code",
   "execution_count": 16,
   "metadata": {},
   "outputs": [],
   "source": [
    "import librosa\n",
    "import soundfile"
   ]
  },
  {
   "cell_type": "code",
   "execution_count": 4,
   "metadata": {},
   "outputs": [],
   "source": [
    "b, sr = librosa.load('/Users/cooky/Desktop/B.wav')\n",
    "s, _ = librosa.load('/Users/cooky/Desktop/S.wav')\n",
    "h, _ = librosa.load('/Users/cooky/Desktop/H.wav')\n",
    "c, _ = librosa.load('/Users/cooky/Desktop/C.wav')\n"
   ]
  },
  {
   "cell_type": "code",
   "execution_count": 19,
   "metadata": {},
   "outputs": [],
   "source": [
    "b_s = librosa.spectrum.stft(b)\n",
    "s_s = librosa.spectrum.stft(s)\n",
    "h_s = librosa.spectrum.stft(h)\n",
    "c_s = librosa.spectrum.stft(c)"
   ]
  },
  {
   "cell_type": "code",
   "execution_count": 20,
   "metadata": {},
   "outputs": [],
   "source": [
    "mix = b + s + h + c\n",
    "mix_s = b_s + s_s + h_s + c_s"
   ]
  },
  {
   "cell_type": "code",
   "execution_count": 24,
   "metadata": {},
   "outputs": [],
   "source": [
    "mix_w = librosa.spectrum.istft(mix_s)"
   ]
  },
  {
   "cell_type": "code",
   "execution_count": 31,
   "metadata": {},
   "outputs": [],
   "source": [
    "soundfile.write('normal.wav',mix,22050,format='WAV')\n",
    "soundfile.write('spec.wav',mix_w,22050,format='WAV')"
   ]
  },
  {
   "cell_type": "code",
   "execution_count": 35,
   "metadata": {},
   "outputs": [
    {
     "name": "stderr",
     "output_type": "stream",
     "text": [
      "/Users/cooky/miniforge3/envs/cid2rch/lib/python3.10/site-packages/librosa/util/decorators.py:88: UserWarning: PySoundFile failed. Trying audioread instead.\n",
      "  return f(*args, **kwargs)\n"
     ]
    }
   ],
   "source": [
    "a1, _ = librosa.load('/Users/cooky/HDD/classic acapella/03 - Crooklyn Dodgers - crooklyn acapella.mp3', duration=10, mono=True)\n",
    "a2, _ = librosa.load('/Users/cooky/HDD/classic acapella/4b    tramaine  -  fall down (acapella) - 1a.mp3', duration=10, mono=True)"
   ]
  },
  {
   "cell_type": "code",
   "execution_count": 36,
   "metadata": {},
   "outputs": [],
   "source": [
    "soundfile.write('aca_normal.wav',a1+a2,22050,format='WAV')\n",
    "soundfile.write('aca_spec.wav',librosa.spectrum.istft(librosa.spectrum.stft(a1)+librosa.spectrum.stft(a2)),22050,format='WAV')\n"
   ]
  },
  {
   "cell_type": "code",
   "execution_count": null,
   "metadata": {},
   "outputs": [],
   "source": []
  },
  {
   "cell_type": "code",
   "execution_count": 34,
   "metadata": {},
   "outputs": [
    {
     "data": {
      "text/plain": [
       "(4, 4, 1)"
      ]
     },
     "execution_count": 34,
     "metadata": {},
     "output_type": "execute_result"
    }
   ],
   "source": [
    "import numpy as np\n",
    "import torch\n",
    "a = np.array([[[0],[3],[1],[1]],[[5],[6],[2],[2]],[[20],[23],[12],[12]],[[25],[62],[22],[22]]])\n",
    "a.shape"
   ]
  },
  {
   "cell_type": "code",
   "execution_count": 53,
   "metadata": {},
   "outputs": [
    {
     "name": "stdout",
     "output_type": "stream",
     "text": [
      "tensor([[ 0,  3,  1,  1],\n",
      "        [ 5,  6,  2,  2],\n",
      "        [20, 23, 12, 12],\n",
      "        [25, 62, 22, 22]])\n",
      "torch.Size([4, 4])\n"
     ]
    }
   ],
   "source": [
    "sp_list = []\n",
    "num = a.shape[2]\n",
    "for ch in range(num):\n",
    "    sp_list.append(torch.from_numpy(a[:,:,ch]))\n",
    "    # print(a[:,:,ch])\n",
    "o = torch.cat(sp_list, dim=1)\n",
    "print(o)\n",
    "print(o.shape)"
   ]
  },
  {
   "cell_type": "code",
   "execution_count": 55,
   "metadata": {},
   "outputs": [
    {
     "name": "stdout",
     "output_type": "stream",
     "text": [
      "tensor([[[ 0,  3,  1,  1],\n",
      "         [ 0,  3,  1,  1],\n",
      "         [ 0,  3,  1,  1]],\n",
      "\n",
      "        [[ 5,  6,  2,  2],\n",
      "         [ 5,  6,  2,  2],\n",
      "         [ 5,  6,  2,  2]],\n",
      "\n",
      "        [[20, 23, 12, 12],\n",
      "         [20, 23, 12, 12],\n",
      "         [20, 23, 12, 12]],\n",
      "\n",
      "        [[25, 62, 22, 22],\n",
      "         [25, 62, 22, 22],\n",
      "         [25, 62, 22, 22]]])\n",
      "torch.Size([4, 3, 4])\n"
     ]
    }
   ],
   "source": [
    "s_list = []\n",
    "for _ in range(3):\n",
    "    s_list.append(torch.from_numpy(a[:,:,0]))\n",
    "# oo = torch.cat(s_list, dim=1)\n",
    "oo = torch.stack(s_list, dim=1)\n",
    "print(oo)\n",
    "print(oo.shape)"
   ]
  },
  {
   "cell_type": "code",
   "execution_count": null,
   "metadata": {},
   "outputs": [],
   "source": []
  }
 ],
 "metadata": {
  "kernelspec": {
   "display_name": "cid2rch",
   "language": "python",
   "name": "python3"
  },
  "language_info": {
   "codemirror_mode": {
    "name": "ipython",
    "version": 3
   },
   "file_extension": ".py",
   "mimetype": "text/x-python",
   "name": "python",
   "nbconvert_exporter": "python",
   "pygments_lexer": "ipython3",
   "version": "3.10.5"
  }
 },
 "nbformat": 4,
 "nbformat_minor": 2
}
